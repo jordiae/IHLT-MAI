{
 "cells": [
  {
   "cell_type": "code",
   "execution_count": null,
   "metadata": {},
   "outputs": [],
   "source": []
  },
  {
   "cell_type": "code",
   "execution_count": 24,
   "metadata": {},
   "outputs": [],
   "source": [
    "train_files = ['MSRpar', 'MSRvid', 'SMTeuroparl']\n",
    "data = []\n",
    "labels = []\n",
    "for file in train_files:\n",
    "    with open('train/STS.input.'+file+'.txt', 'r') as f:\n",
    "        data += [sent.split('\\t') for sent in f.readlines()]\n",
    "    with open('train/STS.gs.'+file+'.txt', 'r') as f:\n",
    "        labels += [float(num) for num in f.readlines()]"
   ]
  },
  {
   "cell_type": "code",
   "execution_count": null,
   "metadata": {},
   "outputs": [],
   "source": []
  }
 ],
 "metadata": {
  "kernelspec": {
   "display_name": "Python 3",
   "language": "python",
   "name": "python3"
  },
  "language_info": {
   "codemirror_mode": {
    "name": "ipython",
    "version": 3
   },
   "file_extension": ".py",
   "mimetype": "text/x-python",
   "name": "python",
   "nbconvert_exporter": "python",
   "pygments_lexer": "ipython3",
   "version": "3.6.5"
  }
 },
 "nbformat": 4,
 "nbformat_minor": 2
}
