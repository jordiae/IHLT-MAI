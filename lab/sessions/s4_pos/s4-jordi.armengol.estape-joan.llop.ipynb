{
 "cells": [
  {
   "cell_type": "markdown",
   "metadata": {},
   "source": [
    "# Session 4: POS Taggers"
   ]
  },
  {
   "cell_type": "markdown",
   "metadata": {},
   "source": [
    "#### Package imports and data downloading"
   ]
  },
  {
   "cell_type": "code",
   "execution_count": 9,
   "metadata": {},
   "outputs": [],
   "source": [
    "import nltk\n",
    "import dill\n",
    "# nltk.download('treebank')\n",
    "from nltk.corpus import treebank\n",
    "from nltk.tag.hmm import HiddenMarkovModelTrainer\n",
    "from nltk.tag import tnt\n",
    "from nltk.tag.perceptron import PerceptronTagger\n",
    "from nltk.tag import CRFTagger"
   ]
  },
  {
   "cell_type": "markdown",
   "metadata": {},
   "source": [
    "We will train all the combinations of the following number of data rows and models."
   ]
  },
  {
   "cell_type": "code",
   "execution_count": 10,
   "metadata": {
    "collapsed": true
   },
   "outputs": [],
   "source": [
    "n_sents = [500, 1000, 1500, 2000, 2500, 3000]\n",
    "trainers = ['HMM','TNT', 'PER', 'CRF']"
   ]
  },
  {
   "cell_type": "markdown",
   "metadata": {},
   "source": [
    "#### Training\n",
    "We save the models in disk (in case we need them later on)."
   ]
  },
  {
   "cell_type": "code",
   "execution_count": 18,
   "metadata": {
    "scrolled": false
   },
   "outputs": [
    {
     "name": "stdout",
     "output_type": "stream",
     "text": [
      "Training HMM ...\n",
      "With 500 rows\n",
      "With 1000 rows\n",
      "With 1500 rows\n",
      "With 2000 rows\n",
      "With 2500 rows\n",
      "With 3000 rows\n",
      "Training TNT ...\n",
      "With 500 rows\n",
      "With 1000 rows\n",
      "With 1500 rows\n",
      "With 2000 rows\n",
      "With 2500 rows\n",
      "With 3000 rows\n",
      "Training PER ...\n",
      "With 500 rows\n",
      "With 1000 rows\n",
      "With 1500 rows\n",
      "With 2000 rows\n",
      "With 2500 rows\n",
      "With 3000 rows\n",
      "Training CRF ...\n",
      "With 500 rows\n",
      "With 1000 rows\n",
      "With 1500 rows\n",
      "With 2000 rows\n",
      "With 2500 rows\n",
      "With 3000 rows\n"
     ]
    }
   ],
   "source": [
    "for name in trainers:\n",
    "    print('Training', name, '...')\n",
    "    models[name] = []\n",
    "    for n in n_sents:\n",
    "        print('With', n, 'rows')\n",
    "        train_data = treebank.tagged_sents()[:n]\n",
    "        if name == 'HMM':\n",
    "            trainer = HiddenMarkovModelTrainer()\n",
    "            model = trainer.train_supervised(train_data)\n",
    "        elif name == 'TNT':\n",
    "            model = tnt.TnT()\n",
    "            model.train(train_data)\n",
    "        elif name == 'PER':\n",
    "            model = PerceptronTagger(load=False)\n",
    "            model.train(train_data)\n",
    "        elif name == 'CRF':\n",
    "            model = CRFTagger()\n",
    "            model.train(train_data, 'crf_tagger_model_' + str(n))\n",
    "        if name != 'CRF':\n",
    "            with open(name.lower() + '_treebank_pos_tagger_' + str(n), 'wb') as f:\n",
    "                dill.dump(model, f)"
   ]
  },
  {
   "cell_type": "markdown",
   "metadata": {},
   "source": [
    "#### Evaluation\n",
    "For evaluating the models, we will use the remaining rows, which have not been used for training any of the models (therefore, the evaluation will be fair).\n",
    "\n",
    "We are loading the models from disk instead of memory because in research or industry we would like to save the models for using them later."
   ]
  },
  {
   "cell_type": "code",
   "execution_count": 27,
   "metadata": {},
   "outputs": [
    {
     "name": "stdout",
     "output_type": "stream",
     "text": [
      "Evaluating HMM ...\n",
      "Evaluating TNT ...\n",
      "Evaluating PER ...\n",
      "Evaluating CRF ...\n"
     ]
    }
   ],
   "source": [
    "test_data = treebank.tagged_sents()[3000:]\n",
    "accuracies = {}\n",
    "for name in trainers:\n",
    "    print('Evaluating', name, '...')\n",
    "    accuracies[name] = []\n",
    "    for n in n_sents:\n",
    "        model = None\n",
    "        if name != 'CRF':\n",
    "            with open(name.lower() + '_treebank_pos_tagger_' + str(n), 'rb') as f:\n",
    "                model = dill.load(f)\n",
    "        else:\n",
    "            model = CRFTagger()\n",
    "            model.set_model_file('crf_tagger_model_' + str(n))\n",
    "        accuracies[name].append(round(model.evaluate(test_data), 3))"
   ]
  },
  {
   "cell_type": "markdown",
   "metadata": {},
   "source": [
    "#### Plot and conclusions"
   ]
  },
  {
   "cell_type": "code",
   "execution_count": 25,
   "metadata": {
    "scrolled": false
   },
   "outputs": [
    {
     "data": {
      "image/png": "[encoded data removed]",
      "text/plain": [
       "<matplotlib.figure.Figure at 0x7fc05d497c50>"
      ]
     },
     "metadata": {},
     "output_type": "display_data"
    }
   ],
   "source": [
    "import matplotlib.pyplot as plt\n",
    "%matplotlib inline\n",
    "\n",
    "\n",
    "for name in trainers:\n",
    "    plt.plot(n_sents, accuracies[name], label=name)\n",
    "\n",
    "plt.xlabel('Train data rows')\n",
    "plt.ylabel('Accuracy')\n",
    "\n",
    "plt.title(\"Accuracies\")\n",
    "\n",
    "plt.legend()\n",
    "\n",
    "plt.show()"
   ]
  },
  {
   "cell_type": "markdown",
   "metadata": {},
   "source": [
    "First of all, in general, we can see that the more data, the better the models, since in machine learning seeing more data points can help to better estimate the underlying probability distribution and generalize better.\n",
    "\n",
    "The best models as per accuracy are PER and CRF. For choosing between them, we should have to consider other factors, such as model simplicity, depending on the problem requirements (CPU efficiency, memory efficiency,...). These two models seem to be very sample/data efficient as well, at least in this case, because with a few rows they already have accuracies above 0.9. The other two models start way below, but at least they seem to scale well with more data. HMM does not seem to be expressive enough to capture the complexity of this problem, and performs poorly."
   ]
  }
 ],
 "metadata": {
  "kernelspec": {
   "display_name": "Python 3",
   "language": "python",
   "name": "python3"
  },
  "language_info": {
   "codemirror_mode": {
    "name": "ipython",
    "version": 3
   },
   "file_extension": ".py",
   "mimetype": "text/x-python",
   "name": "python",
   "nbconvert_exporter": "python",
   "pygments_lexer": "ipython3",
   "version": "3.6.3"
  }
 },
 "nbformat": 4,
 "nbformat_minor": 2
}
