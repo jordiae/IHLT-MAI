{
 "cells": [
  {
   "cell_type": "code",
   "execution_count": 21,
   "metadata": {},
   "outputs": [],
   "source": [
    "input_text = open('trial/STS.input.txt', 'r').read()"
   ]
  },
  {
   "cell_type": "code",
   "execution_count": 24,
   "metadata": {},
   "outputs": [],
   "source": [
    "dataset = []\n",
    "for line in input_text.splitlines():\n",
    "    identifier, sentence1, sentence2 = line.split('\\t')\n",
    "    dataset.append({'id': identifier, 's1': sentence1, 's2': sentence2})"
   ]
  },
  {
   "cell_type": "code",
   "execution_count": 25,
   "metadata": {},
   "outputs": [
    {
     "data": {
      "text/plain": [
       "[0.6923076923076923,\n",
       " 0.7368421052631579,\n",
       " 0.5333333333333333,\n",
       " 0.5454545454545454,\n",
       " 0.7692307692307693,\n",
       " 0.8620689655172413]"
      ]
     },
     "execution_count": 25,
     "metadata": {},
     "output_type": "execute_result"
    }
   ],
   "source": [
    "from nltk.metrics import jaccard_distance\n",
    "import nltk\n",
    "# nltk.download('punkt')\n",
    "# We tokenize the sentences in order to avoid detecting\n",
    "# the final word of a sentence and a punctuation mark\n",
    "# as the same token, for instance.\n",
    "similarities = []\n",
    "for row in dataset:\n",
    "    identifier = row['id']\n",
    "    s1 = nltk.word_tokenize(row['s1'])\n",
    "    s2 = nltk.word_tokenize(row['s2'])\n",
    "    similarity = jaccard_distance(set(s1), set(s2))\n",
    "    similarities.append(similarity)\n",
    "similarities"
   ]
  },
  {
   "cell_type": "code",
   "execution_count": 26,
   "metadata": {},
   "outputs": [
    {
     "data": {
      "text/plain": [
       "0.3962389776119233"
      ]
     },
     "execution_count": 26,
     "metadata": {},
     "output_type": "execute_result"
    }
   ],
   "source": [
    "from scipy.stats import pearsonr\n",
    "text_output = open('trial/STS.gs.txt', 'r').readlines()\n",
    "refs = []\n",
    "for line in text_output:\n",
    "    refs.append(int(line.split()[1]))\n",
    "tsts = []\n",
    "for sim in similarities:\n",
    "    tsts.append(sim)\n",
    "pearsonr(refs, tsts)[0]"
   ]
  },
  {
   "cell_type": "raw",
   "metadata": {},
   "source": [
    "Answer justification: The Pearson correlation is relatively low. Why? Because just computing Jaccard similarities from word-level sets misses deep, semantic, sentence-level implications that cannot be correctly detected by such a simple mechanism. For instance, two sentences with the exact same meaning can be paraphrased (expressed in different words)."
   ]
  }
 ],
 "metadata": {
  "kernelspec": {
   "display_name": "Python 3",
   "language": "python",
   "name": "python3"
  },
  "language_info": {
   "codemirror_mode": {
    "name": "ipython",
    "version": 3
   },
   "file_extension": ".py",
   "mimetype": "text/x-python",
   "name": "python",
   "nbconvert_exporter": "python",
   "pygments_lexer": "ipython3",
   "version": "3.5.2"
  }
 },
 "nbformat": 4,
 "nbformat_minor": 2
}
