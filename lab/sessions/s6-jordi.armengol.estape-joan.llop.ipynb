{
 "cells": [
  {
   "cell_type": "code",
   "execution_count": 10,
   "metadata": {},
   "outputs": [
    {
     "name": "stderr",
     "output_type": "stream",
     "text": [
      "[nltk_data] Downloading package universal_tagset to\n",
      "[nltk_data]     /home2/users/alumnes/1202114/nltk_data...\n",
      "[nltk_data]   Unzipping taggers/universal_tagset.zip.\n"
     ]
    },
    {
     "data": {
      "text/plain": [
       "True"
      ]
     },
     "execution_count": 10,
     "metadata": {},
     "output_type": "execute_result"
    }
   ],
   "source": [
    "import nltk\n",
    "from nltk.metrics import jaccard_distance\n",
    "from scipy.stats import pearsonr\n",
    "from nltk.wsd import lesk\n",
    "from nltk import pos_tag\n",
    "from nltk.corpus import wordnet as wn\n",
    "from nltk.stem import WordNetLemmatizer\n",
    "#nltk.download('punkt')\n",
    "#nltk.download('wordnet')\n",
    "#nltk.download('universal_tagset')"
   ]
  },
  {
   "cell_type": "code",
   "execution_count": 34,
   "metadata": {},
   "outputs": [
    {
     "name": "stdout",
     "output_type": "stream",
     "text": [
      "0.4697360281253835\n",
      "0.4539469938971054\n"
     ]
    }
   ],
   "source": [
    "with open('trial/STS.input.txt') as fp:\n",
    "    data = fp.readlines()\n",
    "    \n",
    "with open('trial/STS.gs.txt') as e:\n",
    "    gs = e.readlines()\n",
    "\n",
    "def nltk_pos_to_wordnet_pos(nltk_pos):\n",
    "    mapping = {'NOUN': wn.NOUN, 'ADJ': wn.ADJ, 'VERB': wn.VERB, 'ADP': wn.ADV}\n",
    "    if nltk_pos in mapping:\n",
    "        return mapping[nltk_pos]\n",
    "    else:\n",
    "        return None\n",
    "    \n",
    "def get_synsets(context):\n",
    "    words = [word for (word, pos) in context]\n",
    "    return {lesk(words, w, p) for w, p in context if lesk(words, w, p)}\n",
    "\n",
    "\n",
    "def get_pos(sent1):\n",
    "    tok_sent1 = nltk.word_tokenize(sent1)\n",
    "    pos_sent1 = pos_tag(tok_sent1, tagset='universal')\n",
    "    w_pos_sent1 = [(word, nltk_pos_to_wordnet_pos(pos)) for (word, pos) in pos_sent1]\n",
    "    filtered_pos_sent1 = [(word, pos) for (word, pos) in w_pos_sent1 if pos is not None]\n",
    "    return filtered_pos_sent1\n",
    "\n",
    "def eval_synsets(sent1, sent2):\n",
    "    pos_sent1 = get_pos(sent1)\n",
    "    pos_sent2 = get_pos(sent2)\n",
    "    synsets1 = get_synsets(pos_sent1)\n",
    "    synsets2 = get_synsets(pos_sent2)\n",
    "    return jaccard_distance(synsets1, synsets2)\n",
    "\n",
    "def eval_definitions(sent1, sent2):\n",
    "    pos_sent1 = get_pos(sent1)\n",
    "    pos_sent2 = get_pos(sent2)\n",
    "    synsets1 = get_synsets(pos_sent1)\n",
    "    synsets2 = get_synsets(pos_sent2)\n",
    "    definitions1 = set([])\n",
    "    for synset in synsets1:\n",
    "        for word in nltk.word_tokenize(synset.definition()):\n",
    "            definitions1.add(word)\n",
    "    definitions2 = set([])\n",
    "    for synset in synsets2:\n",
    "        for word in nltk.word_tokenize(synset.definition()):\n",
    "            definitions2.add(word)\n",
    "        \n",
    "    return jaccard_distance(definitions1, definitions2)\n",
    "    \n",
    "\n",
    "jaccard_synsets = []\n",
    "jaccard_definitions = []\n",
    "gold = []\n",
    "for index, line in enumerate(data):\n",
    "    (num, sent1, sent2) = line.split('\\t')\n",
    "    jaccard_synsets.append(eval_synsets(sent1, sent2))\n",
    "    jaccard_definitions.append(eval_definitions(sent1, sent2))\n",
    "    gold.append(int(gs[index].split('\\t')[1][0]))\n",
    "\n",
    "# 0.490670810375692\n",
    "\n",
    "\n",
    "print('pearson correlation between gold and jaccard distance using synsets:', pearsonr(gold, jaccard_synsets)[0])\n",
    "print('pearson correlation between gold and jaccard distance using definition words:'pearsonr(gold, jaccard_definitions)[0])"
   ]
  },
  {
   "cell_type": "code",
   "execution_count": null,
   "metadata": {},
   "outputs": [],
   "source": []
  },
  {
   "cell_type": "code",
   "execution_count": null,
   "metadata": {},
   "outputs": [],
   "source": []
  }
 ],
 "metadata": {
  "kernelspec": {
   "display_name": "Python 3",
   "language": "python",
   "name": "python3"
  },
  "language_info": {
   "codemirror_mode": {
    "name": "ipython",
    "version": 3
   },
   "file_extension": ".py",
   "mimetype": "text/x-python",
   "name": "python",
   "nbconvert_exporter": "python",
   "pygments_lexer": "ipython3",
   "version": "3.6.5"
  }
 },
 "nbformat": 4,
 "nbformat_minor": 2
}
