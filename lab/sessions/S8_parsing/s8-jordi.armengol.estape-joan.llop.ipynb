{
 "cells": [
  {
   "cell_type": "markdown",
   "metadata": {},
   "source": [
    "# Session 8: Parsing\n",
    "\n",
    "In this session, we will define a simple CFG and use different kinds of parsers for generating the parse tree of a given example sentence. Finally, we will compare the results of the different parsers."
   ]
  },
  {
   "cell_type": "code",
   "execution_count": 48,
   "metadata": {},
   "outputs": [],
   "source": [
    "import nltk\n",
    "import string\n",
    "from nltk import word_tokenize, CFG, ChartParser, BottomUpChartParser, BottomUpLeftCornerChartParser, LeftCornerChartParser\n",
    "# nltk.download('punkt')"
   ]
  },
  {
   "cell_type": "code",
   "execution_count": 49,
   "metadata": {},
   "outputs": [],
   "source": [
    "original_sentence = \"Lazy cats play with mice.\"\n",
    "# [S [NP [JJ] [NNS]] [VP [Vt] [IN] [NNS]]]\n",
    "# original grammar (example)\n",
    "\"\"\"\n",
    "grammar = CFG.fromstring('''\n",
    "  NP  -> NNS | JJ NNS | NP CC NP\n",
    "  NNS -> \"cats\" | \"dogs\" | \"mice\" | NNS CC NNS \n",
    "  JJ  -> \"big\" | \"small\"\n",
    "  CC  -> \"and\" | \"or\"\n",
    "  ''')\n",
    "\"\"\"\n",
    "\n",
    "# our extended grammar: basically, we added rules for VP and some terminal symbols\n",
    "grammar = CFG.fromstring('''\n",
    "    S -> NP VP | NP\n",
    "    NP -> NNS | JJ NNS | NP CC NP\n",
    "    VP -> Vt PP\n",
    "    PP -> IN NP\n",
    "    NNS -> 'cats' | 'dogs' | 'mice' | NNS CC NNS\n",
    "    JJ -> 'big' | 'small' | 'lazy'\n",
    "    CC -> 'and' | 'or'\n",
    "    IN -> 'with'\n",
    "    Vt -> 'play'\n",
    "    ''')"
   ]
  },
  {
   "cell_type": "code",
   "execution_count": 50,
   "metadata": {},
   "outputs": [],
   "source": [
    "def remove_punctuation(token):\n",
    "    res = ''\n",
    "    for c in token:\n",
    "        if c not in string.punctuation:\n",
    "            res += c\n",
    "    return res\n",
    "\n",
    "sent = word_tokenize(remove_punctuation(original_sentence.lower()))"
   ]
  },
  {
   "cell_type": "code",
   "execution_count": 51,
   "metadata": {},
   "outputs": [],
   "source": [
    "parsers = {}\n",
    "parsers['BottomUpChartParser'] =  BottomUpChartParser(grammar)\n",
    "parsers['BottomUpLeftCornerChartParser'] = BottomUpLeftCornerChartParser(grammar)\n",
    "parsers['LeftCornerChartParser'] = LeftCornerChartParser(grammar)\n",
    "\n",
    "parse = {}\n",
    "for name, parser in parsers.items():\n",
    "    for t in parser.parse(sent):\n",
    "        parse[name] = t\n"
   ]
  },
  {
   "cell_type": "code",
   "execution_count": 54,
   "metadata": {},
   "outputs": [
    {
     "data": {
      "image/png": "[encoded data removed]",
      "text/plain": [
       "Tree('S', [Tree('NP', [Tree('JJ', ['lazy']), Tree('NNS', ['cats'])]), Tree('VP', [Tree('Vt', ['play']), Tree('PP', [Tree('IN', ['with']), Tree('NP', [Tree('NNS', ['mice'])])])])])"
      ]
     },
     "execution_count": 54,
     "metadata": {},
     "output_type": "execute_result"
    }
   ],
   "source": [
    "parse['BottomUpChartParser']"
   ]
  },
  {
   "cell_type": "code",
   "execution_count": 62,
   "metadata": {},
   "outputs": [
    {
     "name": "stdout",
     "output_type": "stream",
     "text": [
      "num edges for the BottomUpChartParser: 52\n"
     ]
    },
    {
     "data": {
      "text/plain": [
       "[[Edge: [0:1] 'lazy'],\n",
       " [Edge: [1:2] 'cats'],\n",
       " [Edge: [2:3] 'play'],\n",
       " [Edge: [3:4] 'with'],\n",
       " [Edge: [4:5] 'mice'],\n",
       " [Edge: [0:0] JJ -> * 'lazy'],\n",
       " [Edge: [0:1] JJ -> 'lazy' *],\n",
       " [Edge: [0:0] NP -> * JJ NNS],\n",
       " [Edge: [0:1] NP -> JJ * NNS],\n",
       " [Edge: [1:1] NNS -> * 'cats'],\n",
       " [Edge: [1:2] NNS -> 'cats' *],\n",
       " [Edge: [1:1] NP -> * NNS],\n",
       " [Edge: [1:1] NNS -> * NNS CC NNS],\n",
       " [Edge: [0:2] NP -> JJ NNS *],\n",
       " [Edge: [1:2] NP -> NNS *],\n",
       " [Edge: [1:2] NNS -> NNS * CC NNS],\n",
       " [Edge: [1:1] S  -> * NP VP],\n",
       " [Edge: [1:1] S  -> * NP],\n",
       " [Edge: [1:1] NP -> * NP CC NP],\n",
       " [Edge: [1:2] S  -> NP * VP],\n",
       " [Edge: [1:2] S  -> NP *],\n",
       " [Edge: [1:2] NP -> NP * CC NP],\n",
       " [Edge: [0:0] S  -> * NP VP],\n",
       " [Edge: [0:0] S  -> * NP],\n",
       " [Edge: [0:0] NP -> * NP CC NP],\n",
       " [Edge: [0:2] S  -> NP * VP],\n",
       " [Edge: [0:2] S  -> NP *],\n",
       " [Edge: [0:2] NP -> NP * CC NP],\n",
       " [Edge: [2:2] Vt -> * 'play'],\n",
       " [Edge: [2:3] Vt -> 'play' *],\n",
       " [Edge: [2:2] VP -> * Vt PP],\n",
       " [Edge: [2:3] VP -> Vt * PP],\n",
       " [Edge: [3:3] IN -> * 'with'],\n",
       " [Edge: [3:4] IN -> 'with' *],\n",
       " [Edge: [3:3] PP -> * IN NP],\n",
       " [Edge: [3:4] PP -> IN * NP],\n",
       " [Edge: [4:4] NNS -> * 'mice'],\n",
       " [Edge: [4:5] NNS -> 'mice' *],\n",
       " [Edge: [4:4] NP -> * NNS],\n",
       " [Edge: [4:4] NNS -> * NNS CC NNS],\n",
       " [Edge: [4:5] NP -> NNS *],\n",
       " [Edge: [4:5] NNS -> NNS * CC NNS],\n",
       " [Edge: [4:4] S  -> * NP VP],\n",
       " [Edge: [4:4] S  -> * NP],\n",
       " [Edge: [4:4] NP -> * NP CC NP],\n",
       " [Edge: [3:5] PP -> IN NP *],\n",
       " [Edge: [4:5] S  -> NP * VP],\n",
       " [Edge: [4:5] S  -> NP *],\n",
       " [Edge: [4:5] NP -> NP * CC NP],\n",
       " [Edge: [2:5] VP -> Vt PP *],\n",
       " [Edge: [1:5] S  -> NP VP *],\n",
       " [Edge: [0:5] S  -> NP VP *]]"
      ]
     },
     "execution_count": 62,
     "metadata": {},
     "output_type": "execute_result"
    }
   ],
   "source": [
    "parsed = parsers['BottomUpChartParser'].chart_parse(sent)\n",
    "print(\"num edges for the BottomUpChartParser:\", parsed.num_edges())\n",
    "parsed.edges()"
   ]
  },
  {
   "cell_type": "code",
   "execution_count": 56,
   "metadata": {},
   "outputs": [
    {
     "data": {
      "image/png": "[encoded data removed]",
      "text/plain": [
       "Tree('S', [Tree('NP', [Tree('JJ', ['lazy']), Tree('NNS', ['cats'])]), Tree('VP', [Tree('Vt', ['play']), Tree('PP', [Tree('IN', ['with']), Tree('NP', [Tree('NNS', ['mice'])])])])])"
      ]
     },
     "execution_count": 56,
     "metadata": {},
     "output_type": "execute_result"
    }
   ],
   "source": [
    "parse['BottomUpLeftCornerChartParser']"
   ]
  },
  {
   "cell_type": "code",
   "execution_count": 57,
   "metadata": {},
   "outputs": [
    {
     "name": "stdout",
     "output_type": "stream",
     "text": [
      "num edges for the BottomUpLeftCornerChartParser: 31\n"
     ]
    },
    {
     "data": {
      "text/plain": [
       "[[Edge: [0:1] 'lazy'],\n",
       " [Edge: [1:2] 'cats'],\n",
       " [Edge: [2:3] 'play'],\n",
       " [Edge: [3:4] 'with'],\n",
       " [Edge: [4:5] 'mice'],\n",
       " [Edge: [0:1] JJ -> 'lazy' *],\n",
       " [Edge: [0:1] NP -> JJ * NNS],\n",
       " [Edge: [1:2] NNS -> 'cats' *],\n",
       " [Edge: [1:2] NP -> NNS *],\n",
       " [Edge: [1:2] NNS -> NNS * CC NNS],\n",
       " [Edge: [0:2] NP -> JJ NNS *],\n",
       " [Edge: [0:2] S  -> NP * VP],\n",
       " [Edge: [0:2] S  -> NP *],\n",
       " [Edge: [0:2] NP -> NP * CC NP],\n",
       " [Edge: [1:2] S  -> NP * VP],\n",
       " [Edge: [1:2] S  -> NP *],\n",
       " [Edge: [1:2] NP -> NP * CC NP],\n",
       " [Edge: [2:3] Vt -> 'play' *],\n",
       " [Edge: [2:3] VP -> Vt * PP],\n",
       " [Edge: [3:4] IN -> 'with' *],\n",
       " [Edge: [3:4] PP -> IN * NP],\n",
       " [Edge: [4:5] NNS -> 'mice' *],\n",
       " [Edge: [4:5] NP -> NNS *],\n",
       " [Edge: [4:5] NNS -> NNS * CC NNS],\n",
       " [Edge: [4:5] S  -> NP * VP],\n",
       " [Edge: [4:5] S  -> NP *],\n",
       " [Edge: [4:5] NP -> NP * CC NP],\n",
       " [Edge: [3:5] PP -> IN NP *],\n",
       " [Edge: [2:5] VP -> Vt PP *],\n",
       " [Edge: [0:5] S  -> NP VP *],\n",
       " [Edge: [1:5] S  -> NP VP *]]"
      ]
     },
     "execution_count": 57,
     "metadata": {},
     "output_type": "execute_result"
    }
   ],
   "source": [
    "parsed = parsers['BottomUpLeftCornerChartParser'].chart_parse(sent)\n",
    "print(\"num edges for the BottomUpLeftCornerChartParser:\", parsed.num_edges())\n",
    "parsed.edges()"
   ]
  },
  {
   "cell_type": "code",
   "execution_count": 58,
   "metadata": {},
   "outputs": [
    {
     "data": {
      "image/png": "[encoded data removed]",
      "text/plain": [
       "Tree('S', [Tree('NP', [Tree('JJ', ['lazy']), Tree('NNS', ['cats'])]), Tree('VP', [Tree('Vt', ['play']), Tree('PP', [Tree('IN', ['with']), Tree('NP', [Tree('NNS', ['mice'])])])])])"
      ]
     },
     "execution_count": 58,
     "metadata": {},
     "output_type": "execute_result"
    }
   ],
   "source": [
    "parse['LeftCornerChartParser']"
   ]
  },
  {
   "cell_type": "code",
   "execution_count": 59,
   "metadata": {},
   "outputs": [
    {
     "name": "stdout",
     "output_type": "stream",
     "text": [
      "num edges for the LeftCornerChartParser: 25\n"
     ]
    },
    {
     "data": {
      "text/plain": [
       "[[Edge: [0:1] 'lazy'],\n",
       " [Edge: [1:2] 'cats'],\n",
       " [Edge: [2:3] 'play'],\n",
       " [Edge: [3:4] 'with'],\n",
       " [Edge: [4:5] 'mice'],\n",
       " [Edge: [0:1] JJ -> 'lazy' *],\n",
       " [Edge: [0:1] NP -> JJ * NNS],\n",
       " [Edge: [1:2] NNS -> 'cats' *],\n",
       " [Edge: [1:2] NP -> NNS *],\n",
       " [Edge: [0:2] NP -> JJ NNS *],\n",
       " [Edge: [0:2] S  -> NP * VP],\n",
       " [Edge: [0:2] S  -> NP *],\n",
       " [Edge: [1:2] S  -> NP * VP],\n",
       " [Edge: [1:2] S  -> NP *],\n",
       " [Edge: [2:3] Vt -> 'play' *],\n",
       " [Edge: [2:3] VP -> Vt * PP],\n",
       " [Edge: [3:4] IN -> 'with' *],\n",
       " [Edge: [3:4] PP -> IN * NP],\n",
       " [Edge: [4:5] NNS -> 'mice' *],\n",
       " [Edge: [4:5] NP -> NNS *],\n",
       " [Edge: [4:5] S  -> NP *],\n",
       " [Edge: [3:5] PP -> IN NP *],\n",
       " [Edge: [2:5] VP -> Vt PP *],\n",
       " [Edge: [0:5] S  -> NP VP *],\n",
       " [Edge: [1:5] S  -> NP VP *]]"
      ]
     },
     "execution_count": 59,
     "metadata": {},
     "output_type": "execute_result"
    }
   ],
   "source": [
    "parsed = parsers['LeftCornerChartParser'].chart_parse(sent)\n",
    "print(\"num edges for the LeftCornerChartParser:\", parsed.num_edges())\n",
    "parsed.edges()"
   ]
  },
  {
   "cell_type": "markdown",
   "metadata": {},
   "source": [
    "## Conclusions\n",
    "\n",
    "We get the same parse tree from the different trees. The reasons why this is happening is that the used sentence is very simple (so, there are no very different ways of parsing it) and the grammar is not very complicated either. There is no ambiguity.\n",
    "\n",
    "The relevant difference between the different parsers is the number of generated sentences. All the parsers achieve the same results, but some of them do it in a way more efficient way by generating less edges. For understanding this behaviour, we need to take a look at the internals of the different kinds of parser.\n",
    "\n",
    "|  Parser                       | Number of edges |\n",
    "|-------------------------------|-----------------|\n",
    "| BottomUpChartParser           | 52              |\n",
    "| BottomUpLeftCornerChartParser | 31              |\n",
    "| **LeftCornerChartParser**     | **25**          |\n",
    "\n",
    "\n",
    "We can observe that bottom up strategies lead to repeating derivations. We can take a look at the following rules (taken from the generated edges in the above cells):\n",
    "- With the Bottom Up strategy we repeat the structure multiple times using the following rule ```NNS -> * NNS CC NNS```\n",
    "- Using the Bottom Up Left Corner strategy we repeat only the CC NNS structures```NNS -> NNS * CC NNS```\n",
    "- When we use the Left Corner strategy we do not repeat any rules in this example by defining only the following rule ```NNS -> 'cats' *``` \n",
    "\n",
    "The Left Corner parser is way more efficient, at least for this grammar and sentence. Looking at the order it follows for parsing the sentence and the generated edges, it clearly avoids repetitions."
   ]
  }
 ],
 "metadata": {
  "kernelspec": {
   "display_name": "Python 3",
   "language": "python",
   "name": "python3"
  },
  "language_info": {
   "codemirror_mode": {
    "name": "ipython",
    "version": 3
   },
   "file_extension": ".py",
   "mimetype": "text/x-python",
   "name": "python",
   "nbconvert_exporter": "python",
   "pygments_lexer": "ipython3",
   "version": "3.6.5"
  }
 },
 "nbformat": 4,
 "nbformat_minor": 2
}
