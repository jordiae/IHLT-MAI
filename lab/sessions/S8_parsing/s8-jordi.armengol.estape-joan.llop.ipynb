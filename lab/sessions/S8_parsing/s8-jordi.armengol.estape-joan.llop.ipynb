{
 "cells": [
  {
   "cell_type": "code",
   "execution_count": 108,
   "metadata": {},
   "outputs": [],
   "source": [
    "import nltk\n",
    "import string\n",
    "from nltk import word_tokenize, CFG, ChartParser, BottomUpChartParser, BottomUpLeftCornerChartParser, LeftCornerChartParser\n",
    "# nltk.download('punkt')"
   ]
  },
  {
   "cell_type": "code",
   "execution_count": 109,
   "metadata": {},
   "outputs": [],
   "source": [
    "original_sentence = \"Lazy cats play with mice.\"\n",
    "# [S [NP [JJ] [NNS]] [VP [Vt] [IN] [NNS]]]\n",
    "# original grammar (example)\n",
    "\"\"\"\n",
    "grammar = CFG.fromstring('''\n",
    "  NP  -> NNS | JJ NNS | NP CC NP\n",
    "  NNS -> \"cats\" | \"dogs\" | \"mice\" | NNS CC NNS \n",
    "  JJ  -> \"big\" | \"small\"\n",
    "  CC  -> \"and\" | \"or\"\n",
    "  ''')\"\"\"\n",
    "# our extended grammar: basically, we added rules for VP and some terminal symbols\n",
    "grammar = CFG.fromstring('''\n",
    "    S -> NP VP | NP\n",
    "    NP -> NNS | JJ NNS | NP CC NP\n",
    "    VP -> Vt IN NNS\n",
    "    NNS -> 'cats' | 'dogs' | 'mice' | NNS CC NNS\n",
    "    JJ -> 'big' | 'small' | 'lazy'\n",
    "    CC -> 'and' | 'or'\n",
    "    IN -> 'with'\n",
    "    Vt -> 'play'\n",
    "    ''')"
   ]
  },
  {
   "cell_type": "code",
   "execution_count": 110,
   "metadata": {},
   "outputs": [],
   "source": [
    "def remove_punctuation(token):\n",
    "    res = ''\n",
    "    for c in token:\n",
    "        if c not in string.punctuation:\n",
    "            res += c\n",
    "    return res\n",
    "\n",
    "sent = word_tokenize(remove_punctuation(original_sentence.lower()))"
   ]
  },
  {
   "cell_type": "code",
   "execution_count": 119,
   "metadata": {},
   "outputs": [],
   "source": [
    "parsers = {}\n",
    "parsers['ChartParser'] = ChartParser(grammar)\n",
    "parsers['BottomUpChartParser'] =  BottomUpChartParser(grammar)\n",
    "parsers['BottomUpLeftCornerChartParser'] = BottomUpLeftCornerChartParser(grammar)\n",
    "parsers['LeftCornerChartParser'] = LeftCornerChartParser(grammar)\n",
    "\n",
    "parse = {}\n",
    "for name, parser in parsers.items():\n",
    "    for t in parser.parse(sent):\n",
    "        parse[name] = t\n"
   ]
  },
  {
   "cell_type": "code",
   "execution_count": 120,
   "metadata": {},
   "outputs": [
    {
     "data": {
      "image/png": "[encoded data removed]",
      "text/plain": [
       "Tree('S', [Tree('NP', [Tree('JJ', ['lazy']), Tree('NNS', ['cats'])]), Tree('VP', [Tree('Vt', ['play']), Tree('IN', ['with']), Tree('NNS', ['mice'])])])"
      ]
     },
     "execution_count": 120,
     "metadata": {},
     "output_type": "execute_result"
    }
   ],
   "source": [
    "parse['ChartParser']"
   ]
  },
  {
   "cell_type": "code",
   "execution_count": 121,
   "metadata": {},
   "outputs": [
    {
     "name": "stdout",
     "output_type": "stream",
     "text": [
      "num edges for the ChartParser: 30\n"
     ]
    },
    {
     "data": {
      "text/plain": [
       "[[Edge: [0:1] 'lazy'],\n",
       " [Edge: [1:2] 'cats'],\n",
       " [Edge: [2:3] 'play'],\n",
       " [Edge: [3:4] 'with'],\n",
       " [Edge: [4:5] 'mice'],\n",
       " [Edge: [0:1] JJ -> 'lazy' *],\n",
       " [Edge: [0:1] NP -> JJ * NNS],\n",
       " [Edge: [1:2] NNS -> 'cats' *],\n",
       " [Edge: [1:2] NP -> NNS *],\n",
       " [Edge: [1:2] NNS -> NNS * CC NNS],\n",
       " [Edge: [0:2] NP -> JJ NNS *],\n",
       " [Edge: [0:2] S  -> NP * VP],\n",
       " [Edge: [0:2] S  -> NP *],\n",
       " [Edge: [0:2] NP -> NP * CC NP],\n",
       " [Edge: [1:2] S  -> NP * VP],\n",
       " [Edge: [1:2] S  -> NP *],\n",
       " [Edge: [1:2] NP -> NP * CC NP],\n",
       " [Edge: [2:3] Vt -> 'play' *],\n",
       " [Edge: [2:3] VP -> Vt * IN NNS],\n",
       " [Edge: [3:4] IN -> 'with' *],\n",
       " [Edge: [2:4] VP -> Vt IN * NNS],\n",
       " [Edge: [4:5] NNS -> 'mice' *],\n",
       " [Edge: [4:5] NP -> NNS *],\n",
       " [Edge: [4:5] NNS -> NNS * CC NNS],\n",
       " [Edge: [2:5] VP -> Vt IN NNS *],\n",
       " [Edge: [0:5] S  -> NP VP *],\n",
       " [Edge: [1:5] S  -> NP VP *],\n",
       " [Edge: [4:5] S  -> NP * VP],\n",
       " [Edge: [4:5] S  -> NP *],\n",
       " [Edge: [4:5] NP -> NP * CC NP]]"
      ]
     },
     "execution_count": 121,
     "metadata": {},
     "output_type": "execute_result"
    }
   ],
   "source": [
    "parsed = parsers['ChartParser'].chart_parse(sent)\n",
    "print(\"num edges for the ChartParser:\", parsed.num_edges())\n",
    "parsed.edges()"
   ]
  },
  {
   "cell_type": "code",
   "execution_count": 101,
   "metadata": {},
   "outputs": [
    {
     "data": {
      "image/png": "[encoded data removed]",
      "text/plain": [
       "Tree('S', [Tree('NP', [Tree('JJ', ['lazy']), Tree('NNS', ['cats'])]), Tree('VP', [Tree('Vt', ['play']), Tree('IN', ['with']), Tree('NNS', ['mice'])])])"
      ]
     },
     "execution_count": 101,
     "metadata": {},
     "output_type": "execute_result"
    }
   ],
   "source": [
    "parse['BottomUpChartParser']"
   ]
  },
  {
   "cell_type": "code",
   "execution_count": 102,
   "metadata": {},
   "outputs": [
    {
     "name": "stdout",
     "output_type": "stream",
     "text": [
      "num edges for the BottomUpChartParser: 50\n"
     ]
    },
    {
     "data": {
      "text/plain": [
       "[[Edge: [0:1] 'lazy'],\n",
       " [Edge: [1:2] 'cats'],\n",
       " [Edge: [2:3] 'play'],\n",
       " [Edge: [3:4] 'with'],\n",
       " [Edge: [4:5] 'mice'],\n",
       " [Edge: [0:0] JJ -> * 'lazy'],\n",
       " [Edge: [0:1] JJ -> 'lazy' *],\n",
       " [Edge: [0:0] NP -> * JJ NNS],\n",
       " [Edge: [0:1] NP -> JJ * NNS],\n",
       " [Edge: [1:1] NNS -> * 'cats'],\n",
       " [Edge: [1:2] NNS -> 'cats' *],\n",
       " [Edge: [1:1] NP -> * NNS],\n",
       " [Edge: [1:1] NNS -> * NNS CC NNS],\n",
       " [Edge: [0:2] NP -> JJ NNS *],\n",
       " [Edge: [1:2] NP -> NNS *],\n",
       " [Edge: [1:2] NNS -> NNS * CC NNS],\n",
       " [Edge: [1:1] S  -> * NP VP],\n",
       " [Edge: [1:1] S  -> * NP],\n",
       " [Edge: [1:1] NP -> * NP CC NP],\n",
       " [Edge: [1:2] S  -> NP * VP],\n",
       " [Edge: [1:2] S  -> NP *],\n",
       " [Edge: [1:2] NP -> NP * CC NP],\n",
       " [Edge: [0:0] S  -> * NP VP],\n",
       " [Edge: [0:0] S  -> * NP],\n",
       " [Edge: [0:0] NP -> * NP CC NP],\n",
       " [Edge: [0:2] S  -> NP * VP],\n",
       " [Edge: [0:2] S  -> NP *],\n",
       " [Edge: [0:2] NP -> NP * CC NP],\n",
       " [Edge: [2:2] Vt -> * 'play'],\n",
       " [Edge: [2:3] Vt -> 'play' *],\n",
       " [Edge: [2:2] VP -> * Vt IN NNS],\n",
       " [Edge: [2:3] VP -> Vt * IN NNS],\n",
       " [Edge: [3:3] IN -> * 'with'],\n",
       " [Edge: [3:4] IN -> 'with' *],\n",
       " [Edge: [2:4] VP -> Vt IN * NNS],\n",
       " [Edge: [4:4] NNS -> * 'mice'],\n",
       " [Edge: [4:5] NNS -> 'mice' *],\n",
       " [Edge: [4:4] NP -> * NNS],\n",
       " [Edge: [4:4] NNS -> * NNS CC NNS],\n",
       " [Edge: [2:5] VP -> Vt IN NNS *],\n",
       " [Edge: [4:5] NP -> NNS *],\n",
       " [Edge: [4:5] NNS -> NNS * CC NNS],\n",
       " [Edge: [4:4] S  -> * NP VP],\n",
       " [Edge: [4:4] S  -> * NP],\n",
       " [Edge: [4:4] NP -> * NP CC NP],\n",
       " [Edge: [4:5] S  -> NP * VP],\n",
       " [Edge: [4:5] S  -> NP *],\n",
       " [Edge: [4:5] NP -> NP * CC NP],\n",
       " [Edge: [1:5] S  -> NP VP *],\n",
       " [Edge: [0:5] S  -> NP VP *]]"
      ]
     },
     "execution_count": 102,
     "metadata": {},
     "output_type": "execute_result"
    }
   ],
   "source": [
    "parsed = parsers['BottomUpChartParser'].chart_parse(sent)\n",
    "print(\"num edges for the BottomUpChartParser:\", parsed.num_edges())\n",
    "parsed.edges()"
   ]
  },
  {
   "cell_type": "code",
   "execution_count": 103,
   "metadata": {},
   "outputs": [
    {
     "data": {
      "image/png": "[encoded data removed]",
      "text/plain": [
       "Tree('S', [Tree('NP', [Tree('JJ', ['lazy']), Tree('NNS', ['cats'])]), Tree('VP', [Tree('Vt', ['play']), Tree('IN', ['with']), Tree('NNS', ['mice'])])])"
      ]
     },
     "execution_count": 103,
     "metadata": {},
     "output_type": "execute_result"
    }
   ],
   "source": [
    "parse['BottomUpLeftCornerChartParser']"
   ]
  },
  {
   "cell_type": "code",
   "execution_count": 104,
   "metadata": {},
   "outputs": [
    {
     "name": "stdout",
     "output_type": "stream",
     "text": [
      "num edges for the BottomUpLeftCornerChartParser: 30\n"
     ]
    },
    {
     "data": {
      "text/plain": [
       "[[Edge: [0:1] 'lazy'],\n",
       " [Edge: [1:2] 'cats'],\n",
       " [Edge: [2:3] 'play'],\n",
       " [Edge: [3:4] 'with'],\n",
       " [Edge: [4:5] 'mice'],\n",
       " [Edge: [0:1] JJ -> 'lazy' *],\n",
       " [Edge: [0:1] NP -> JJ * NNS],\n",
       " [Edge: [1:2] NNS -> 'cats' *],\n",
       " [Edge: [1:2] NP -> NNS *],\n",
       " [Edge: [1:2] NNS -> NNS * CC NNS],\n",
       " [Edge: [0:2] NP -> JJ NNS *],\n",
       " [Edge: [0:2] S  -> NP * VP],\n",
       " [Edge: [0:2] S  -> NP *],\n",
       " [Edge: [0:2] NP -> NP * CC NP],\n",
       " [Edge: [1:2] S  -> NP * VP],\n",
       " [Edge: [1:2] S  -> NP *],\n",
       " [Edge: [1:2] NP -> NP * CC NP],\n",
       " [Edge: [2:3] Vt -> 'play' *],\n",
       " [Edge: [2:3] VP -> Vt * IN NNS],\n",
       " [Edge: [3:4] IN -> 'with' *],\n",
       " [Edge: [2:4] VP -> Vt IN * NNS],\n",
       " [Edge: [4:5] NNS -> 'mice' *],\n",
       " [Edge: [4:5] NP -> NNS *],\n",
       " [Edge: [4:5] NNS -> NNS * CC NNS],\n",
       " [Edge: [2:5] VP -> Vt IN NNS *],\n",
       " [Edge: [0:5] S  -> NP VP *],\n",
       " [Edge: [1:5] S  -> NP VP *],\n",
       " [Edge: [4:5] S  -> NP * VP],\n",
       " [Edge: [4:5] S  -> NP *],\n",
       " [Edge: [4:5] NP -> NP * CC NP]]"
      ]
     },
     "execution_count": 104,
     "metadata": {},
     "output_type": "execute_result"
    }
   ],
   "source": [
    "parsed = parsers['BottomUpLeftCornerChartParser'].chart_parse(sent)\n",
    "print(\"num edges for the BottomUpLeftCornerChartParser:\", parsed.num_edges())\n",
    "parsed.edges()"
   ]
  },
  {
   "cell_type": "code",
   "execution_count": 105,
   "metadata": {},
   "outputs": [
    {
     "data": {
      "image/png": "[encoded data removed]",
      "text/plain": [
       "Tree('S', [Tree('NP', [Tree('JJ', ['lazy']), Tree('NNS', ['cats'])]), Tree('VP', [Tree('Vt', ['play']), Tree('IN', ['with']), Tree('NNS', ['mice'])])])"
      ]
     },
     "execution_count": 105,
     "metadata": {},
     "output_type": "execute_result"
    }
   ],
   "source": [
    "parse['LeftCornerChartParser']"
   ]
  },
  {
   "cell_type": "code",
   "execution_count": 106,
   "metadata": {},
   "outputs": [
    {
     "name": "stdout",
     "output_type": "stream",
     "text": [
      "num edges for the LeftCornerChartParser: 24\n"
     ]
    },
    {
     "data": {
      "text/plain": [
       "[[Edge: [0:1] 'lazy'],\n",
       " [Edge: [1:2] 'cats'],\n",
       " [Edge: [2:3] 'play'],\n",
       " [Edge: [3:4] 'with'],\n",
       " [Edge: [4:5] 'mice'],\n",
       " [Edge: [0:1] JJ -> 'lazy' *],\n",
       " [Edge: [0:1] NP -> JJ * NNS],\n",
       " [Edge: [1:2] NNS -> 'cats' *],\n",
       " [Edge: [1:2] NP -> NNS *],\n",
       " [Edge: [0:2] NP -> JJ NNS *],\n",
       " [Edge: [0:2] S  -> NP * VP],\n",
       " [Edge: [0:2] S  -> NP *],\n",
       " [Edge: [1:2] S  -> NP * VP],\n",
       " [Edge: [1:2] S  -> NP *],\n",
       " [Edge: [2:3] Vt -> 'play' *],\n",
       " [Edge: [2:3] VP -> Vt * IN NNS],\n",
       " [Edge: [3:4] IN -> 'with' *],\n",
       " [Edge: [2:4] VP -> Vt IN * NNS],\n",
       " [Edge: [4:5] NNS -> 'mice' *],\n",
       " [Edge: [4:5] NP -> NNS *],\n",
       " [Edge: [2:5] VP -> Vt IN NNS *],\n",
       " [Edge: [0:5] S  -> NP VP *],\n",
       " [Edge: [1:5] S  -> NP VP *],\n",
       " [Edge: [4:5] S  -> NP *]]"
      ]
     },
     "execution_count": 106,
     "metadata": {},
     "output_type": "execute_result"
    }
   ],
   "source": [
    "parsed = parsers['LeftCornerChartParser'].chart_parse(sent)\n",
    "print(\"num edges for the LeftCornerChartParser:\", parsed.num_edges())\n",
    "parsed.edges()"
   ]
  },
  {
   "cell_type": "code",
   "execution_count": 72,
   "metadata": {},
   "outputs": [
    {
     "data": {
      "text/plain": [
       "[Edge: [0:1] 'lazy']"
      ]
     },
     "execution_count": 72,
     "metadata": {},
     "output_type": "execute_result"
    }
   ],
   "source": []
  }
 ],
 "metadata": {
  "kernelspec": {
   "display_name": "Python 3",
   "language": "python",
   "name": "python3"
  },
  "language_info": {
   "codemirror_mode": {
    "name": "ipython",
    "version": 3
   },
   "file_extension": ".py",
   "mimetype": "text/x-python",
   "name": "python",
   "nbconvert_exporter": "python",
   "pygments_lexer": "ipython3",
   "version": "3.6.5"
  }
 },
 "nbformat": 4,
 "nbformat_minor": 2
}
