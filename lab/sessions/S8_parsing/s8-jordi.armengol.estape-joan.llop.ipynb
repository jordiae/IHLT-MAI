{
 "cells": [
  {
   "cell_type": "code",
   "execution_count": 141,
   "metadata": {
    "collapsed": true
   },
   "outputs": [],
   "source": [
    "import nltk\n",
    "import string\n",
    "from nltk import word_tokenize, CFG, ChartParser, BottomUpChartParser, BottomUpLeftCornerChartParser, LeftCornerChartParser\n"
   ]
  },
  {
   "cell_type": "code",
   "execution_count": 142,
   "metadata": {
    "collapsed": true
   },
   "outputs": [],
   "source": [
    "original_sentence = \"Lazy cats play with mice.\"\n",
    "# [S [NP [JJ] [NNS]] [VP [Vt] [IN] [NNS]]]\n",
    "\n",
    "grammar = CFG.fromstring('''\n",
    "    S -> NP VP | NP\n",
    "    NP -> NNS | JJ NNS | NP CC NP\n",
    "    VP -> Vt IN NNS\n",
    "    NNS -> 'cats' | 'dogs' | 'mice' | NNS CC NNS\n",
    "    JJ -> 'big' | 'small' | 'lazy'\n",
    "    CC -> 'and' | 'or'\n",
    "    IN -> 'with'\n",
    "    Vt -> 'play'\n",
    "    ''')"
   ]
  },
  {
   "cell_type": "code",
   "execution_count": 143,
   "metadata": {
    "collapsed": true
   },
   "outputs": [],
   "source": [
    "def remove_punctuation(token):\n",
    "    res = ''\n",
    "    for c in token:\n",
    "        if c not in string.punctuation:\n",
    "            res += c\n",
    "    return res\n",
    "\n",
    "sent = word_tokenize(remove_punctuation(original_sentence.lower()))"
   ]
  },
  {
   "cell_type": "code",
   "execution_count": 144,
   "metadata": {
    "collapsed": true
   },
   "outputs": [],
   "source": [
    "parsers = {}\n",
    "parsers['ChartParser'] = ChartParser(grammar)\n",
    "parsers['BottomUpChartParser'] =  BottomUpChartParser(grammar)\n",
    "parsers['BottomUpLeftCornerChartParser'] = BottomUpLeftCornerChartParser(grammar)\n",
    "parsers['LeftCornerChartParser'] = LeftCornerChartParser(grammar)\n",
    "\n",
    "parse = {}\n",
    "for name, parser in parsers.items():\n",
    "    for t in parser.parse(sent):\n",
    "        parse[name] = t\n"
   ]
  },
  {
   "cell_type": "code",
   "execution_count": 145,
   "metadata": {},
   "outputs": [
    {
     "ename": "TypeError",
     "evalue": "'LeftCornerChartParser' object is not subscriptable",
     "output_type": "error",
     "traceback": [
      "\u001b[0;31m---------------------------------------------------------------------------\u001b[0m",
      "\u001b[0;31mTypeError\u001b[0m                                 Traceback (most recent call last)",
      "\u001b[0;32m<ipython-input-145-e2d6efa475c4>\u001b[0m in \u001b[0;36m<module>\u001b[0;34m()\u001b[0m\n\u001b[1;32m      1\u001b[0m \u001b[0mparse\u001b[0m\u001b[0;34m[\u001b[0m\u001b[0;34m'ChartParser'\u001b[0m\u001b[0;34m]\u001b[0m\u001b[0;34m\u001b[0m\u001b[0m\n\u001b[0;32m----> 2\u001b[0;31m \u001b[0mparse\u001b[0m \u001b[0;34m=\u001b[0m \u001b[0mparser\u001b[0m\u001b[0;34m[\u001b[0m\u001b[0;34m'ChartParser'\u001b[0m\u001b[0;34m]\u001b[0m\u001b[0;34m.\u001b[0m\u001b[0mchart_parse\u001b[0m\u001b[0;34m(\u001b[0m\u001b[0;34m[\u001b[0m\u001b[0;34m'small'\u001b[0m\u001b[0;34m,\u001b[0m \u001b[0;34m'cats'\u001b[0m\u001b[0;34m,\u001b[0m \u001b[0;34m'and'\u001b[0m\u001b[0;34m,\u001b[0m \u001b[0;34m'mice'\u001b[0m\u001b[0;34m]\u001b[0m\u001b[0;34m)\u001b[0m\u001b[0;34m\u001b[0m\u001b[0m\n\u001b[0m",
      "\u001b[0;31mTypeError\u001b[0m: 'LeftCornerChartParser' object is not subscriptable"
     ]
    }
   ],
   "source": [
    "parse['ChartParser']\n",
    "parse = parser['ChartParser'].chart_parse(['small', 'cats', 'and', 'mice'])"
   ]
  },
  {
   "cell_type": "code",
   "execution_count": 139,
   "metadata": {},
   "outputs": [
    {
     "data": {
      "image/png": "[encoded data removed]",
      "text/plain": [
       "Tree('S', [Tree('NP', [Tree('JJ', ['lazy']), Tree('NNS', ['cats'])]), Tree('VP', [Tree('Vt', ['play']), Tree('IN', ['with']), Tree('NNS', ['mice'])])])"
      ]
     },
     "execution_count": 139,
     "metadata": {},
     "output_type": "execute_result"
    }
   ],
   "source": [
    "parse['BottomUpChartParser']"
   ]
  },
  {
   "cell_type": "code",
   "execution_count": 114,
   "metadata": {},
   "outputs": [
    {
     "data": {
      "image/png": "[encoded data removed]",
      "text/plain": [
       "Tree('S', [Tree('NP', [Tree('JJ', ['lazy']), Tree('NNS', ['cats'])]), Tree('VP', [Tree('Vt', ['play']), Tree('IN', ['with']), Tree('NNS', ['mice'])])])"
      ]
     },
     "execution_count": 114,
     "metadata": {},
     "output_type": "execute_result"
    }
   ],
   "source": [
    "parse['BottomUpLeftCornerChartParser']"
   ]
  },
  {
   "cell_type": "code",
   "execution_count": 115,
   "metadata": {},
   "outputs": [
    {
     "data": {
      "image/png": "[encoded data removed]",
      "text/plain": [
       "Tree('S', [Tree('NP', [Tree('JJ', ['lazy']), Tree('NNS', ['cats'])]), Tree('VP', [Tree('Vt', ['play']), Tree('IN', ['with']), Tree('NNS', ['mice'])])])"
      ]
     },
     "execution_count": 115,
     "metadata": {},
     "output_type": "execute_result"
    }
   ],
   "source": [
    "parse['LeftCornerChartParser']"
   ]
  }
 ],
 "metadata": {
  "kernelspec": {
   "display_name": "Python 3",
   "language": "python",
   "name": "python3"
  },
  "language_info": {
   "codemirror_mode": {
    "name": "ipython",
    "version": 3
   },
   "file_extension": ".py",
   "mimetype": "text/x-python",
   "name": "python",
   "nbconvert_exporter": "python",
   "pygments_lexer": "ipython3",
   "version": "3.6.3"
  }
 },
 "nbformat": 4,
 "nbformat_minor": 2
}
