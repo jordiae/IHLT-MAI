{
 "cells": [
  {
   "cell_type": "markdown",
   "metadata": {},
   "source": [
    "## IHLT S1 assignment. Jordi Armengol, Joan Llop."
   ]
  },
  {
   "cell_type": "code",
   "execution_count": 1,
   "metadata": {},
   "outputs": [
    {
     "name": "stderr",
     "output_type": "stream",
     "text": [
      "[nltk_data] Downloading package gutenberg to\n",
      "[nltk_data]     /home2/users/alumnes/1202152/nltk_data...\n",
      "[nltk_data]   Unzipping corpora/gutenberg.zip.\n",
      "[nltk_data] Downloading package stopwords to\n",
      "[nltk_data]     /home2/users/alumnes/1202152/nltk_data...\n",
      "[nltk_data]   Unzipping corpora/stopwords.zip.\n"
     ]
    },
    {
     "data": {
      "text/plain": [
       "True"
      ]
     },
     "execution_count": 1,
     "metadata": {},
     "output_type": "execute_result"
    }
   ],
   "source": [
    "import nltk\n",
    "#nltk.download('gutenberg')\n",
    "#nltk.download('stopwords')"
   ]
  },
  {
   "cell_type": "code",
   "execution_count": 2,
   "metadata": {},
   "outputs": [],
   "source": [
    "txt = nltk.corpus.gutenberg.words('blake-poems.txt')\n"
   ]
  },
  {
   "cell_type": "code",
   "execution_count": 4,
   "metadata": {},
   "outputs": [],
   "source": [
    "from nltk.corpus import stopwords\n",
    "\n",
    "sw=set(stopwords.words('english'))"
   ]
  },
  {
   "cell_type": "code",
   "execution_count": 34,
   "metadata": {},
   "outputs": [],
   "source": [
    "freqs = {}\n",
    "for word in txt:\n",
    "    if word in freqs:\n",
    "        freqs[word] += 1\n",
    "    elif word not in sw:\n",
    "        freqs[word] = 1"
   ]
  },
  {
   "cell_type": "code",
   "execution_count": 35,
   "metadata": {},
   "outputs": [],
   "source": [
    "sorted_freqs = sorted(freqs.items(), key=lambda x: -x[1])"
   ]
  },
  {
   "cell_type": "code",
   "execution_count": 36,
   "metadata": {},
   "outputs": [
    {
     "data": {
      "text/plain": [
       "[(',', 680),\n",
       " ('.', 201),\n",
       " ('And', 176),\n",
       " ('I', 130),\n",
       " (\"'\", 104),\n",
       " (';', 98),\n",
       " (':', 75),\n",
       " ('?', 65),\n",
       " ('The', 61),\n",
       " ('!', 59),\n",
       " ('\"', 51),\n",
       " ('thee', 42),\n",
       " ('like', 29),\n",
       " ('thy', 28),\n",
       " ('thou', 28),\n",
       " ('THE', 27),\n",
       " ('little', 26),\n",
       " ('In', 25),\n",
       " ('night', 25),\n",
       " ('away', 24),\n",
       " ('But', 24),\n",
       " ('Then', 23),\n",
       " ('joy', 22),\n",
       " ('He', 21),\n",
       " ('weep', 21)]"
      ]
     },
     "execution_count": 36,
     "metadata": {},
     "output_type": "execute_result"
    }
   ],
   "source": [
    "sorted_freqs[:25]"
   ]
  },
  {
   "cell_type": "code",
   "execution_count": null,
   "metadata": {},
   "outputs": [],
   "source": []
  }
 ],
 "metadata": {
  "kernelspec": {
   "display_name": "Python 3",
   "language": "python",
   "name": "python3"
  },
  "language_info": {
   "codemirror_mode": {
    "name": "ipython",
    "version": 3
   },
   "file_extension": ".py",
   "mimetype": "text/x-python",
   "name": "python",
   "nbconvert_exporter": "python",
   "pygments_lexer": "ipython3",
   "version": "3.6.5"
  }
 },
 "nbformat": 4,
 "nbformat_minor": 2
}
